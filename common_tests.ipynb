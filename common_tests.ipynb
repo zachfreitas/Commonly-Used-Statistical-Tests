{
 "cells": [
  {
   "cell_type": "markdown",
   "metadata": {},
   "source": [
    "# T-Test\n",
    "A t-test is applied to ascertain whether the average difference among two groups differs significantly from each other. This emanates from the t-distribution applied in making statistical decisions.\n",
    "\n",
    "There are mainly three types of T-tests.\n",
    "\n",
    "* **Independent samples T-test:** The T-test looks at averages in two groups that aren’t connected.\n",
    "* **Paired sample T-test:** Compares means from the same group at different times.\n",
    "* **One-sample T-test:** Compares the mean of a particular group to a known mean.\n",
    "\n",
    "## Calculation\n",
    "Simply put, the T-test estimates the difference between two groups by dividing it by the data’s variability. Let’s see the formula.\n",
    "\n",
    "T-Test in Statistical Tests\n",
    "$$t =\n",
    "  \\frac{ \\bar{x_1} - \\bar{x_2} }{%\n",
    "        \\sqrt{\\frac{s^2}{n_1}+\\frac{s^2}{n_2}}}$$\n",
    "\n",
    "The sample means are $x_1$ and $x_2$, the variance is $s^2$, and the sample sizes are $n_1$ and $n_2$.\n",
    "\n",
    "## Simple Python Implementation\n",
    "Let’s see a simple implementation of it."
   ]
  },
  {
   "cell_type": "code",
   "execution_count": 3,
   "metadata": {},
   "outputs": [
    {
     "name": "stdout",
     "output_type": "stream",
     "text": [
      "T-Statistic: -3.349593498043261, P-Value: 0.0014272927816536796\n"
     ]
    }
   ],
   "source": [
    "import numpy as np\n",
    "from scipy import stats\n",
    "\n",
    "# Sample data: Group A and Group B\n",
    "group_a = np.random.normal(5.0, 1.5, 30)\n",
    "group_b = np.random.normal(6.0, 1.5, 30)\n",
    "\n",
    "# Performing an Independent T-test\n",
    "t_stat, p_val = stats.ttest_ind(group_a, group_b)\n",
    "print(f\"T-Statistic: {t_stat}, P-Value: {p_val}\")"
   ]
  },
  {
   "cell_type": "markdown",
   "metadata": {},
   "source": [
    "The Python code’s output for the T-test is:\n",
    "\n",
    "T-Statistic -3.06\n",
    "P-Value 0.003\n",
    "This P-value (smaller than 0.05), shows a statistically significant difference in means between the two groups. The negative T-statistic shows that group A has a lower mean than group B.\n",
    "\n",
    "## Further Project Suggestion\n",
    "**Effectiveness of Sleep Aids:** Compare the average sleep duration of subjects taking a new herbal sleep aid versus a placebo.\n",
    "\n",
    "**Educational Methods:** Evaluate students’ test scores using traditional methods against those taught via e-learning platforms.\n",
    "\n",
    "**Fitness Program Results:** Assess the impact of two different 8-week fitness programs on weight loss among similar demographic groups.\n",
    "\n",
    "**Productivity Software:** Compare the average task completion time for two groups using different productivity apps.\n",
    "\n",
    "**Food Preference Study:** Measure and compare the perceived taste rating of a new beverage with a standard competitor’s product across a sample of consumers.\n",
    "\n",
    "# Chi-Square Test\n",
    "The Chi-Square Test determines whether there is a strong association between the two data types or not. There are two types of Chi-square tests.\n",
    "\n",
    "* **Chi-Square Test of Independence:** The aim is to find out whether two category variables are independent or not.\n",
    "* **Chi-Square Goodness of Fit Test:** In this one, the aim is to find out whether a sample distribution matches a population distribution or not.\n",
    "\n",
    "## Calculation\n",
    "The formula for the Chi-Square statistic is:\n",
    "\n",
    "$$\\chi^2 =\\sum_{}\\frac{(O_i - E_i)^2}{E_i}$$\n",
    "\n",
    "'$O_i$' is the number we see and '$E_i$' is the number we expect.\n",
    "\n",
    "Simply, it involves calculating a value that summarizes the difference between observed and expected frequencies. The larger this value, the more likely the observed differences are not due to random chance.\n",
    "\n",
    "## Simple Python Implementation\n",
    "Let’s see a simple implementation of it."
   ]
  },
  {
   "cell_type": "code",
   "execution_count": 4,
   "metadata": {},
   "outputs": [
    {
     "name": "stdout",
     "output_type": "stream",
     "text": [
      "Chi2 Statistic: 21.058333333333334, P-value: 4.455110459655313e-06\n"
     ]
    }
   ],
   "source": [
    "from scipy.stats import chi2_contingency\n",
    "import numpy as np\n",
    "\n",
    "# Example data: Gender vs. Movie Preference\n",
    "data = np.array([[30, 10], [5, 25]])\n",
    "chi2, p, dof, expected = chi2_contingency(data)\n",
    "print(f\"Chi2 Statistic: {chi2}, P-value: {p}\")"
   ]
  },
  {
   "cell_type": "markdown",
   "metadata": {},
   "source": [
    "The Python code’s output for the Chi-Square Test is\n",
    "\n",
    "Chi-Square Statistic: 21.06\n",
    "P-Value: 0.00000446\n",
    "The Chi-Square statistic is 21.06 with a P-value of approximately 0.00000446. This very low P-value suggests a significant association between gender and movie preference at a 5% significance level.\n",
    "\n",
    "## Further Project Suggestion\n",
    "**Election Prediction:** Examine the relationship between voter age groups and their preferences for particular political topics.\n",
    "\n",
    "**Marketing Campaign:** Determine if there is a difference in responses to two distinct marketing campaigns across geographies.\n",
    "\n",
    "**Education Level and Technologies Use:** Explore the link between educational level and adopting new technologies in a community.\n",
    "\n",
    "**illness Outbreak:** Explore the relationship between illness spread and population density in the most affected areas.\n",
    "\n",
    "**Customer Satisfaction:** Find out the relationship between customer satisfaction and the time of day they get service in retail.\n",
    "\n",
    "# ANOVA (Analysis of Variance)\n",
    "ANOVA is used to assess averages between three or more groups.. It helps determine if at least one group’s mean is statistically different.\n",
    "\n",
    "* **One-Way ANOVA:** Compares means across one independent variable with three or more levels (groups).\n",
    "* **Two-Way ANOVA:** Compares means considering two independent variables.\n",
    "* **Repeated Measures ANOVA:** Used when the same subjects are used in all groups.\n",
    "\n",
    "## Calculation\n",
    "The formula for ANOVA is:\n",
    "\n",
    "$$F = \\frac{\\text{Between-Group Variability}}{\\text{Within-Group Variability}}$$\n",
    "\n",
    "In simpler terms, ANOVA calculates an F-statistic, a ratio of the variance between groups to the variance within groups. A higher F-value indicates a more significant difference between the group means.\n",
    "\n",
    "## Simple Python Implementation\n",
    "Let’s see a simple implementation of it."
   ]
  },
  {
   "cell_type": "code",
   "execution_count": 5,
   "metadata": {},
   "outputs": [
    {
     "name": "stdout",
     "output_type": "stream",
     "text": [
      "F-Statistic: 7.061089960019864, P-Value: 0.0014396869814243005\n"
     ]
    }
   ],
   "source": [
    "from scipy import stats\n",
    "import numpy as np\n",
    "\n",
    "# Sample data: Three different groups\n",
    "group1 = np.random.normal(5.0, 1.5, 30)\n",
    "group2 = np.random.normal(6.0, 1.5, 30)\n",
    "group3 = np.random.normal(7.0, 1.5, 30)\n",
    "\n",
    "# Performing One-Way ANOVA\n",
    "f_stat, p_val = stats.f_oneway(group1, group2, group3)\n",
    "print(f\"F-Statistic: {f_stat}, P-Value: {p_val}\")"
   ]
  },
  {
   "cell_type": "markdown",
   "metadata": {},
   "source": [
    "The Python code’s output for the ANOVA test is:\n",
    "\n",
    "F-Statistic: 15.86\n",
    "P-Value: 0.00000134\n",
    "The F-statistic is 15.86 with a P-value of approximately 0.00000134. This extremely low P-value indicates a significant difference between the means of at least one of the groups compared to the others at a 5% significance level.\n",
    "\n",
    "## Further Project Suggestion\n",
    "**Agricultural Crop Yields:** Compare the average yields of various wheat types across numerous areas to determine which are the most productive.\n",
    "\n",
    "**Employees Productivity:** Compare staff productivity across firm departments to evaluate whether there is a substantial variation.\n",
    "\n",
    "**Therapeutic strategies:** Evaluate the effectiveness of various therapy techniques to reduce anxiety levels, for instance.\n",
    "\n",
    "**Gaming Platforms:** Determine whether meaningful differences in average frame rates exist over many gaming systems running the same video game.\n",
    "\n",
    "**Dietary Effects on Health:** Investigate the influence of different diets, like vegan, and vegetarian on specific health indicators in participants.\n",
    "\n",
    "# Pearson Correlation\n",
    "Pearson Correlation evaluates the straight-line connection between two ongoing variables. It produces a value between -1 and 1, indicating the strength and direction of the association.\n",
    "\n",
    "The Pearson Correlation is a specific type of correlation, mainly differing from others like Spearman’s correlation, used for non-linear relationships.\n",
    "\n",
    "## Calculation\n",
    "The formula for the Pearson Correlation coefficient is:\n",
    "\n",
    "$$r =\n",
    "  \\frac{ \\sum_{i=1}^{n}(x_i-\\bar{x})(y_i-\\bar{y}) }{%\n",
    "        \\sqrt{\\sum_{i=1}^{n}(x_i-\\bar{x})^2 \\sum_{i=1}^{n}(y_i-\\bar{y})^2}}$$\n",
    "\n",
    "\n",
    "Simply put, it calculates how much one variable changes with another.\n",
    "\n",
    "A value close to 1 indicates a strong positive correlation, and close to -1 indicates a strong negative correlation.\n",
    "\n",
    "## Simple Python Implementation\n",
    "Let’s see a simple implementation of it."
   ]
  },
  {
   "cell_type": "code",
   "execution_count": 6,
   "metadata": {},
   "outputs": [
    {
     "name": "stdout",
     "output_type": "stream",
     "text": [
      "Pearson Correlation Coefficient: 1.0\n"
     ]
    }
   ],
   "source": [
    "import numpy as np\n",
    "from scipy.stats import pearsonr\n",
    "\n",
    "# Sample data\n",
    "x = np.array([10, 20, 30, 40, 50])\n",
    "y = np.array([15, 25, 35, 45, 55])\n",
    "\n",
    "# Calculating Pearson Correlation\n",
    "corr, _ = pearsonr(x, y)\n",
    "print(f\"Pearson Correlation Coefficient: {corr}\")"
   ]
  },
  {
   "cell_type": "markdown",
   "metadata": {},
   "source": [
    "The Python code’s output for the Pearson Correlation test is:\n",
    "\n",
    "Pearson Correlation Coefficient: 1.0\n",
    "This shows a perfect positive relationship between these variables. If you are doing an ML project with this correlation, you have to suspect overfitting.\n",
    "\n",
    "## Further Project Suggestion\n",
    "**Economic Indicators:** Investigate the link between consumer confidence and retail sales volume.\n",
    "\n",
    "**Healthcare Analysis:** In this one, you can explore the link between the number of hours spent physically active and blood pressure levels.\n",
    "\n",
    "**Educational Achievement:** Would not be super nice, if you had a chance to examine the link between the amount of time you spent on your homework and your success.\n",
    "\n",
    "**Technology Use:** Maybe it is time to lower your screen time, to find out if you can investigate the relationship between time spent on social media and perceived stress or happiness.\n",
    "\n",
    "**Real Estate Pricing:** Research the link between social media use and estimated stress or happiness levels.\n",
    "\n",
    "# Mann-Whitney U Test\n",
    "The Mann-Whitney U Test is a test that evaluates differences between two independent groups if the data you have does not fit a normal distribution.\n",
    "\n",
    "It is a substitute for the T-test when data doesn’t adhere to the normality assumption.\n",
    "\n",
    "## Calculation\n",
    "The Mann-Whitney U statistic is calculated based on the ranks of the data in the combined dataset.\n",
    "\n",
    "$$U = R_2 - \\frac {{n}_{2}({n}_{2}+1)}{2}$$\n",
    "\n",
    "Where\n",
    "\n",
    "$U$ is the Mann-Whitney $U$ statistic. \\\n",
    "$R_1$ and $R_2$ are the sum of ranks for the first and second groups, respectively. \\\n",
    "$n_1$ and $n_2$ are the sample sizes of the two groups\n",
    "\n",
    "\n",
    "## Simple Python Implementation\n",
    "Let’s see a simple implementation of it."
   ]
  },
  {
   "cell_type": "code",
   "execution_count": 7,
   "metadata": {},
   "outputs": [
    {
     "name": "stdout",
     "output_type": "stream",
     "text": [
      "U Statistic: 239.0, P-Value: 0.0018574800226340267\n"
     ]
    }
   ],
   "source": [
    "from scipy.stats import mannwhitneyu\n",
    "import numpy as np\n",
    "\n",
    "# Sample data: Two groups\n",
    "group1 = np.random.normal(5.0, 1.5, 30)\n",
    "group2 = np.random.normal(6.0, 1.5, 30)\n",
    "\n",
    "# Performing Mann-Whitney U Test\n",
    "u_stat, p_val = mannwhitneyu(group1, group2)\n",
    "print(f\"U Statistic: {u_stat}, P-Value: {p_val}\")"
   ]
  },
  {
   "cell_type": "markdown",
   "metadata": {},
   "source": [
    "The Python code’s output for the Mann-Whitney U Test is:\n",
    "\n",
    "U Statistic: 305.0\n",
    "P-Value: 0.032\n",
    "This P-value is below the typical alpha level of 0.05, indicating that there is a statistically significant difference in the median ranks of the two groups at the 5% significance level. The Mann-Whitney U Test result suggests that the distributions of the two groups are not equal.\n",
    "\n",
    "## Further Project Suggestion\n",
    "**Medication Response:** Compare the change in symptom severity before and after taking two distinct drugs in non-normally distributed patient data.\n",
    "\n",
    "**Job Satisfaction:** It can be a good time to switch departments. To decide where to go, you can Compare the levels of job satisfaction among employees in your company’s high- and low-stress departments.\n",
    "\n",
    "**Teaching Materials:** Determine the impact of two teaching materials on student involvement in a classroom where data is not typically distributed.\n",
    "\n",
    "**E-commerce Delivery timeframes:** Compare the delivery timeframes of two courier services for e-commerce packages.\n",
    "\n",
    "**Exercise Impact on Mood:** Investigate the impact of two distinct forms of short-term exercise on mood improvement in individuals, with a focus on nonparametric data."
   ]
  }
 ],
 "metadata": {
  "kernelspec": {
   "display_name": "Python 3",
   "language": "python",
   "name": "python3"
  },
  "language_info": {
   "codemirror_mode": {
    "name": "ipython",
    "version": 3
   },
   "file_extension": ".py",
   "mimetype": "text/x-python",
   "name": "python",
   "nbconvert_exporter": "python",
   "pygments_lexer": "ipython3",
   "version": "3.11.9"
  }
 },
 "nbformat": 4,
 "nbformat_minor": 2
}
